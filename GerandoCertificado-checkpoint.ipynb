{
 "cells": [
  {
   "cell_type": "code",
   "execution_count": 1,
   "id": "05319098",
   "metadata": {},
   "outputs": [
    {
     "name": "stdout",
     "output_type": "stream",
     "text": [
      "Defaulting to user installation because normal site-packages is not writeable\n",
      "Collecting python-docx\n",
      "  Downloading python-docx-0.8.11.tar.gz (5.6 MB)\n",
      "     ---------------------------------------- 5.6/5.6 MB 13.7 MB/s eta 0:00:00\n",
      "  Preparing metadata (setup.py): started\n",
      "  Preparing metadata (setup.py): finished with status 'done'\n",
      "Requirement already satisfied: lxml>=2.3.2 in c:\\programdata\\anaconda3\\lib\\site-packages (from python-docx) (4.8.0)\n",
      "Building wheels for collected packages: python-docx\n",
      "  Building wheel for python-docx (setup.py): started\n",
      "  Building wheel for python-docx (setup.py): finished with status 'done'\n",
      "  Created wheel for python-docx: filename=python_docx-0.8.11-py3-none-any.whl size=184507 sha256=df9171d937b45d43a578df9dde6cdcb0f916cedc385d0e015f1df3ce2fa69813\n",
      "  Stored in directory: c:\\users\\jasantos\\appdata\\local\\pip\\cache\\wheels\\83\\8b\\7c\\09ae60c42c7ba4ed2dddaf2b8b9186cb105255856d6ed3dba5\n",
      "Successfully built python-docx\n",
      "Installing collected packages: python-docx\n",
      "Successfully installed python-docx-0.8.11\n",
      "Note: you may need to restart the kernel to use updated packages.\n"
     ]
    },
    {
     "name": "stderr",
     "output_type": "stream",
     "text": [
      "WARNING: Ignoring invalid distribution -andas (c:\\programdata\\anaconda3\\lib\\site-packages)\n",
      "WARNING: Ignoring invalid distribution -andas (c:\\programdata\\anaconda3\\lib\\site-packages)\n",
      "WARNING: Ignoring invalid distribution -andas (c:\\programdata\\anaconda3\\lib\\site-packages)\n",
      "WARNING: Ignoring invalid distribution -andas (c:\\programdata\\anaconda3\\lib\\site-packages)\n"
     ]
    }
   ],
   "source": [
    "pip install python-docx"
   ]
  },
  {
   "cell_type": "code",
   "execution_count": 7,
   "id": "1609b65e",
   "metadata": {},
   "outputs": [
    {
     "name": "stdout",
     "output_type": "stream",
     "text": [
      "Certificado gerado com sucesso!\n"
     ]
    }
   ],
   "source": [
    "from docx import Document\n",
    "from docx.shared import Pt\n",
    "\n",
    "#Abrindo o arquivo do Word\n",
    "arquivoWord = Document(\"Certificado1.docx\")\n",
    "\n",
    "#Configurando os estilos\n",
    "estilo = arquivoWord.styles[\"Normal\"]\n",
    "\n",
    "#for = para\n",
    "for paragrafo in arquivoWord.paragraphs:\n",
    "    #if = se\n",
    "    if \"@nome\" in paragrafo.text:\n",
    "        paragrafo.text = \"Amanda Batista Alves\"\n",
    "        fonte = estilo.font\n",
    "        fonte.name = \"Calibri (Corpo)\"\n",
    "        fonte.size = Pt(24)\n",
    "        \n",
    "\n",
    "#Salva o certificado com o nome do aluno\n",
    "arquivoWord.save(\"Amanda Batista Alves.docx\")\n",
    "\n",
    "print(\"Certificado gerado com sucesso!\")"
   ]
  },
  {
   "cell_type": "code",
   "execution_count": 14,
   "id": "14642612",
   "metadata": {},
   "outputs": [
    {
     "name": "stdout",
     "output_type": "stream",
     "text": [
      "Certificados gerados com sucesso!\n"
     ]
    }
   ],
   "source": [
    "from docx import Document\n",
    "from docx.shared import Pt\n",
    "\n",
    "from openpyxl import load_workbook\n",
    "import os\n",
    "\n",
    "#Configurando o caminho\n",
    "nome_arquivo_alunos = \"C:\\\\Users\\\\55119\\\\Desktop\\\\Curso RPA\\\\Word\\\\Alunos.xlsx\"\n",
    "\n",
    "#Abrindo o arquivo\n",
    "planilhaDadosAlunos = load_workbook(nome_arquivo_alunos)\n",
    "\n",
    "#Selecionando a aba sheet/planilha\n",
    "sheet_selecionada = planilhaDadosAlunos[\"Nomes\"]\n",
    "\n",
    "#for = para\n",
    "for linha in range(2, len(sheet_selecionada[\"A\"]) + 1):\n",
    "\n",
    "    #Abrindo o arquivo do Word\n",
    "    arquivoWord = Document(\"Certificado1.docx\")\n",
    "\n",
    "    #Configurando os estilos\n",
    "    estilo = arquivoWord.styles[\"Normal\"]\n",
    "    \n",
    "    #Pegamos o nome do aluno que está na linha corrente\n",
    "    nomeAluno = sheet_selecionada['A%s' % linha].value\n",
    "\n",
    "    #for = para\n",
    "    for paragrafo in arquivoWord.paragraphs:\n",
    "        #if = se\n",
    "        if \"@nome\" in paragrafo.text:\n",
    "            paragrafo.text = nomeAluno\n",
    "            fonte = estilo.font\n",
    "            fonte.name = \"Calibri (Corpo)\"\n",
    "            fonte.size = Pt(24)\n",
    "\n",
    "    caminhoCertificado = \"C:\\\\Users\\\\55119\\\\Desktop\\\\Curso RPA\\\\Word\\\\Certificados\\\\\" + nomeAluno + \".docx\"\n",
    "\n",
    "    #Salva o certificado com o nome do aluno\n",
    "    arquivoWord.save(caminhoCertificado)\n",
    "\n",
    "print(\"Certificados gerados com sucesso!\")"
   ]
  },
  {
   "cell_type": "code",
   "execution_count": 9,
   "id": "93ae5e05",
   "metadata": {},
   "outputs": [
    {
     "name": "stdout",
     "output_type": "stream",
     "text": [
      "Requirement already satisfied: openpyxl in c:\\users\\55119\\anaconda3\\lib\\site-packages (3.0.7)\n",
      "Requirement already satisfied: et-xmlfile in c:\\users\\55119\\anaconda3\\lib\\site-packages (from openpyxl) (1.0.1)\n",
      "Note: you may need to restart the kernel to use updated packages.\n"
     ]
    }
   ],
   "source": [
    "pip install openpyxl"
   ]
  },
  {
   "cell_type": "code",
   "execution_count": 3,
   "id": "b539c9bb",
   "metadata": {},
   "outputs": [
    {
     "name": "stdout",
     "output_type": "stream",
     "text": [
      "Certificados gerados com sucesso!\n"
     ]
    }
   ],
   "source": [
    "from docx import Document\n",
    "from docx.shared import Pt\n",
    "\n",
    "from openpyxl import load_workbook\n",
    "import os\n",
    "\n",
    "#Configurando o caminho\n",
    "nome_arquivo_alunos = \"C:\\\\Users\\\\55119\\\\Desktop\\\\Curso RPA\\\\Word\\\\DadosAlunos.xlsx\"\n",
    "\n",
    "#Abrindo o arquivo\n",
    "planilhaDadosAlunos = load_workbook(nome_arquivo_alunos)\n",
    "\n",
    "#Selecionando a aba sheet/planilha\n",
    "sheet_selecionada = planilhaDadosAlunos[\"Nomes\"]\n",
    "\n",
    "#for = para\n",
    "for linha in range(2, len(sheet_selecionada[\"A\"]) + 1):\n",
    "\n",
    "    #Abrindo o arquivo do Word\n",
    "    arquivoWord = Document(\"Certificado2.docx\")\n",
    "\n",
    "    #Configurando os estilos\n",
    "    estilo = arquivoWord.styles[\"Normal\"]\n",
    "    \n",
    "    #Pegamos o nome do aluno que está na linha corrente\n",
    "    nomeAluno = sheet_selecionada['A%s' % linha].value\n",
    "    dia = sheet_selecionada['B%s' % linha].value\n",
    "    mes = sheet_selecionada['C%s' % linha].value\n",
    "    ano = sheet_selecionada['D%s' % linha].value\n",
    "    nomeCurso = sheet_selecionada['E%s' % linha].value\n",
    "    nomeInstrutor = sheet_selecionada['F%s' % linha].value\n",
    "    \n",
    "    frase_parte1 = \"Concluiu com sucesso o curso de \"\n",
    "    frase_parte2 = \", com a carga horária de 20 horas, promovido pela escola de Cursos Online em \"\n",
    "    frase_montada = f\"{frase_parte1} {nomeCurso}{frase_parte2} {dia} de {mes} de {ano}\"\n",
    "\n",
    "    #for = para\n",
    "    for paragrafo in arquivoWord.paragraphs:\n",
    "        #if = se\n",
    "        if \"@nome\" in paragrafo.text:\n",
    "            paragrafo.text = nomeAluno\n",
    "            fonte = estilo.font\n",
    "            fonte.name = \"Calibri (Corpo)\"\n",
    "            fonte.size = Pt(24)\n",
    "            \n",
    "        if \"Dezembro\" in paragrafo.text:\n",
    "            paragrafo.text = frase_montada\n",
    "            fonte = estilo.font\n",
    "            fonte.name = \"Calibri (Corpo)\"\n",
    "            fonte.size = Pt(24)\n",
    "            \n",
    "        if \"Instrutor\" in paragrafo.text:\n",
    "            paragrafo.text = nomeInstrutor + \" - Instrutor\"\n",
    "            fonte = estilo.font\n",
    "            fonte.name = \"Calibri (Corpo)\"\n",
    "            fonte.size = Pt(24)\n",
    "\n",
    "    caminhoCertificado = \"C:\\\\Users\\\\55119\\\\Desktop\\\\Curso RPA\\\\Word\\\\Certificados\\\\\" + nomeAluno + \".docx\"\n",
    "\n",
    "    #Salva o certificado com o nome do aluno\n",
    "    arquivoWord.save(caminhoCertificado)\n",
    "\n",
    "print(\"Certificados gerados com sucesso!\")"
   ]
  },
  {
   "cell_type": "code",
   "execution_count": 6,
   "id": "f3052412",
   "metadata": {},
   "outputs": [
    {
     "name": "stdout",
     "output_type": "stream",
     "text": [
      "Certificados gerados com sucesso!\n"
     ]
    }
   ],
   "source": [
    "from docx import Document\n",
    "\n",
    "#Aumenta o tamanho da fonte\n",
    "from docx.shared import Pt\n",
    "\n",
    "#Mudar a cor da fonte\n",
    "from docx.shared import RGBColor\n",
    "\n",
    "#Abre o arquivo de excel\n",
    "from openpyxl import load_workbook\n",
    "\n",
    "\n",
    "#Configurando o caminho\n",
    "nome_arquivo_alunos = \"C:\\\\Users\\\\55119\\\\Desktop\\\\Curso RPA\\\\Word\\\\DadosAlunos.xlsx\"\n",
    "\n",
    "#Abrindo o arquivo\n",
    "planilhaDadosAlunos = load_workbook(nome_arquivo_alunos)\n",
    "\n",
    "#Selecionando a aba sheet/planilha\n",
    "sheet_selecionada = planilhaDadosAlunos[\"Nomes\"]\n",
    "\n",
    "#for = para\n",
    "for linha in range(2, len(sheet_selecionada[\"A\"]) + 1):\n",
    "\n",
    "    #Abrindo o arquivo do Word\n",
    "    arquivoWord = Document(\"Certificado2.docx\")\n",
    "\n",
    "    #Configurando os estilos\n",
    "    estilo = arquivoWord.styles[\"Normal\"]\n",
    "    \n",
    "    #Pegamos o nome do aluno que está na linha corrente\n",
    "    nomeAluno = sheet_selecionada['A%s' % linha].value\n",
    "    dia = sheet_selecionada['B%s' % linha].value\n",
    "    mes = sheet_selecionada['C%s' % linha].value\n",
    "    ano = sheet_selecionada['D%s' % linha].value\n",
    "    nomeCurso = sheet_selecionada['E%s' % linha].value\n",
    "    nomeInstrutor = sheet_selecionada['F%s' % linha].value\n",
    "    \n",
    "    frase_parte1 = \"Concluiu com sucesso o curso de \"\n",
    "    frase_parte2 = \", com a carga horária de 20 horas, promovido pela escola de Cursos Online em \"\n",
    "    frase_montada = f\"{frase_parte2} {dia} de {mes} de {ano}\"\n",
    "\n",
    "    #for = para\n",
    "    for paragrafo in arquivoWord.paragraphs:\n",
    "        #if = se\n",
    "        if \"@nome\" in paragrafo.text:\n",
    "            paragrafo.text = nomeAluno\n",
    "            fonte = estilo.font\n",
    "            fonte.name = \"Calibri (Corpo)\"\n",
    "            fonte.size = Pt(24)\n",
    "            \n",
    "        if \"Dezembro\" in paragrafo.text:\n",
    "            paragrafo.text = frase_parte1\n",
    "            fonte = estilo.font\n",
    "            fonte.name = \"Calibri (Corpo)\"\n",
    "            fonte.size = Pt(24)\n",
    "            adicionaNovaPalavra = paragrafo.add_run(nomeCurso) #Adiciona o nome do curso no final do paragrafo\n",
    "            adicionaNovaPalavra.font.color.rgb = RGBColor(255, 0, 0) #Muda a cor para vermelho\n",
    "            adicionaNovaPalavra.underline = True #Subrinha a palavra\n",
    "            adicionaNovaPalavra.bold = True #Deixa a palavra como negrito\n",
    "            adicionaNovaPalavra = paragrafo.add_run(frase_montada) #Adiciona o texto final do paragrafo\n",
    "            adicionaNovaPalavra.font.color.rgb = RGBColor(0, 0, 0) #Muda a cor para preto\n",
    "            \n",
    "        if \"Instrutor\" in paragrafo.text:\n",
    "            paragrafo.text = nomeInstrutor + \" - Instrutor\"\n",
    "            fonte = estilo.font\n",
    "            fonte.name = \"Calibri (Corpo)\"\n",
    "            fonte.size = Pt(24)\n",
    "\n",
    "    caminhoCertificado = \"C:\\\\Users\\\\55119\\\\Desktop\\\\Curso RPA\\\\Word\\\\Certificados\\\\\" + nomeAluno + \".docx\"\n",
    "\n",
    "    #Salva o certificado com o nome do aluno\n",
    "    arquivoWord.save(caminhoCertificado)\n",
    "\n",
    "print(\"Certificados gerados com sucesso!\")"
   ]
  },
  {
   "cell_type": "code",
   "execution_count": 7,
   "id": "32dd4fe9",
   "metadata": {},
   "outputs": [
    {
     "name": "stdout",
     "output_type": "stream",
     "text": [
      "Requirement already satisfied: pywin32 in c:\\users\\55119\\anaconda3\\lib\\site-packages (227)\n",
      "Note: you may need to restart the kernel to use updated packages.\n"
     ]
    }
   ],
   "source": [
    "pip install pywin32"
   ]
  },
  {
   "cell_type": "code",
   "execution_count": 16,
   "id": "2586430c",
   "metadata": {},
   "outputs": [
    {
     "name": "stdout",
     "output_type": "stream",
     "text": [
      "Certificados gerados com sucesso!\n"
     ]
    }
   ],
   "source": [
    "from docx import Document\n",
    "\n",
    "#Aumenta o tamanho da fonte\n",
    "from docx.shared import Pt\n",
    "\n",
    "#Mudar a cor da fonte\n",
    "from docx.shared import RGBColor\n",
    "\n",
    "#Abre o arquivo de excel\n",
    "from openpyxl import load_workbook\n",
    "\n",
    "import win32com.client as win32\n",
    "outlook = win32.Dispatch(\"outlook.application\")\n",
    "\n",
    "\n",
    "#Configurando o caminho\n",
    "nome_arquivo_alunos = \"C:\\\\Users\\\\55119\\\\Desktop\\\\Curso RPA\\\\Word\\\\DadosAlunosEmail.xlsx\"\n",
    "\n",
    "#Abrindo o arquivo\n",
    "planilhaDadosAlunos = load_workbook(nome_arquivo_alunos)\n",
    "\n",
    "#Selecionando a aba sheet/planilha\n",
    "sheet_selecionada = planilhaDadosAlunos[\"Nomes\"]\n",
    "\n",
    "#for = para\n",
    "for linha in range(2, len(sheet_selecionada[\"A\"]) + 1):\n",
    "\n",
    "    #Abrindo o arquivo do Word\n",
    "    arquivoWord = Document(\"Certificado2.docx\")\n",
    "\n",
    "    #Configurando os estilos\n",
    "    estilo = arquivoWord.styles[\"Normal\"]\n",
    "    \n",
    "    #Pegamos o nome do aluno que está na linha corrente\n",
    "    nomeAluno = sheet_selecionada['A%s' % linha].value\n",
    "    dia = sheet_selecionada['B%s' % linha].value\n",
    "    mes = sheet_selecionada['C%s' % linha].value\n",
    "    ano = sheet_selecionada['D%s' % linha].value\n",
    "    nomeCurso = sheet_selecionada['E%s' % linha].value\n",
    "    nomeInstrutor = sheet_selecionada['F%s' % linha].value\n",
    "    emailAluno = sheet_selecionada['G%s' % linha].value\n",
    "    \n",
    "    frase_parte1 = \"Concluiu com sucesso o curso de \"\n",
    "    frase_parte2 = \", com a carga horária de 20 horas, promovido pela escola de Cursos Online em \"\n",
    "    frase_montada = f\"{frase_parte2} {dia} de {mes} de {ano}.\"\n",
    "\n",
    "    #for = para\n",
    "    for paragrafo in arquivoWord.paragraphs:\n",
    "        #if = se\n",
    "        if \"@nome\" in paragrafo.text:\n",
    "            paragrafo.text = nomeAluno\n",
    "            fonte = estilo.font\n",
    "            fonte.name = \"Calibri (Corpo)\"\n",
    "            fonte.size = Pt(24)\n",
    "            \n",
    "        if \"Dezembro\" in paragrafo.text:\n",
    "            paragrafo.text = frase_parte1\n",
    "            fonte = estilo.font\n",
    "            fonte.name = \"Calibri (Corpo)\"\n",
    "            fonte.size = Pt(24)\n",
    "            adicionaNovaPalavra = paragrafo.add_run(nomeCurso) #Adiciona o nome do curso no final do paragrafo\n",
    "            adicionaNovaPalavra.font.color.rgb = RGBColor(255, 0, 0) #Muda a cor para vermelho\n",
    "            adicionaNovaPalavra.underline = True #Subrinha a palavra\n",
    "            adicionaNovaPalavra.bold = True #Deixa a palavra como negrito\n",
    "            adicionaNovaPalavra = paragrafo.add_run(frase_montada) #Adiciona o texto final do paragrafo\n",
    "            adicionaNovaPalavra.font.color.rgb = RGBColor(0, 0, 0) #Muda a cor para preto\n",
    "            \n",
    "        if \"Instrutor\" in paragrafo.text:\n",
    "            paragrafo.text = nomeInstrutor + \" - Instrutor\"\n",
    "            fonte = estilo.font\n",
    "            fonte.name = \"Calibri (Corpo)\"\n",
    "            fonte.size = Pt(24)\n",
    "\n",
    "    caminhoCertificado = \"C:\\\\Users\\\\55119\\\\Desktop\\\\Curso RPA\\\\Word\\\\Certificados\\\\\" + nomeAluno + \".docx\"\n",
    "\n",
    "    #Salva o certificado com o nome do aluno\n",
    "    arquivoWord.save(caminhoCertificado)\n",
    "    \n",
    "    emailOutlook = outlook.CreateItem(0)\n",
    "    \n",
    "    #Pegando o primeiro nome\n",
    "    primeiroNome = nomeAluno.split(None, 1)[0]\n",
    "    \n",
    "    emailOutlook.To = emailAluno\n",
    "    emailOutlook.Subject = \"Certificado \" + nomeAluno\n",
    "    emailOutlook.HTMLBody = f\"\"\"\n",
    "        <p>Boa noite {primeiroNome}.</p>\n",
    "        <p>Segue seu <b>certificado</b>.</p>\n",
    "        <p>Atenciosamente. </p>\n",
    "        <p><img src=\"C:\\\\Users\\\\55119\\\\Desktop\\\\Curso RPA\\\\Word\\\\Assinatura.jpg\"></p>\n",
    "    \"\"\"\n",
    "    #Adicionando o certificado em anexo\n",
    "    emailOutlook.Attachments.Add(caminhoCertificado)\n",
    "    emailOutlook.save() #save = cria e salva como draft - send - envia o email direto\n",
    "\n",
    "print(\"Certificados gerados com sucesso!\")"
   ]
  },
  {
   "cell_type": "code",
   "execution_count": null,
   "id": "695cbc5d",
   "metadata": {},
   "outputs": [],
   "source": []
  }
 ],
 "metadata": {
  "kernelspec": {
   "display_name": "Python 3 (ipykernel)",
   "language": "python",
   "name": "python3"
  },
  "language_info": {
   "codemirror_mode": {
    "name": "ipython",
    "version": 3
   },
   "file_extension": ".py",
   "mimetype": "text/x-python",
   "name": "python",
   "nbconvert_exporter": "python",
   "pygments_lexer": "ipython3",
   "version": "3.9.12"
  }
 },
 "nbformat": 4,
 "nbformat_minor": 5
}
